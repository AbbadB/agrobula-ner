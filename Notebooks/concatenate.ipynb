{
 "cells": [
  {
   "cell_type": "code",
   "execution_count": 21,
   "id": "09a9f31a-a234-4159-be19-075d24c2bb60",
   "metadata": {},
   "outputs": [],
   "source": [
    "import os\n",
    "from os import listdir\n",
    "import pandas as pd\n",
    "from tqdm import tqdm"
   ]
  },
  {
   "cell_type": "code",
   "execution_count": 29,
   "id": "c08d0ef8-92bf-47c7-917a-aa23bdd05dc7",
   "metadata": {},
   "outputs": [],
   "source": [
    "version = #DESIRED VERSION\n",
    "\n",
    "train_files = [f for f in listdir(f'../AGROBULA-NER/{version}/train')]\n",
    "test_files = [f for f in listdir(f'../AGROBULA-NER/{version}/test')]\n",
    "dev_files = [f for f in listdir(f'../AGROBULA-NER/{version}/dev')]"
   ]
  },
  {
   "cell_type": "code",
   "execution_count": 30,
   "id": "7c0c0473-b896-4a02-81c6-2ffd5b52d096",
   "metadata": {},
   "outputs": [],
   "source": [
    "filenames_train = []\n",
    "for f in train_files:\n",
    "     filenames_train.append(f\"../AGROBULA-NER/{version}/train/{f}\")\n",
    "        \n",
    "filenames_test = []\n",
    "for f in test_files:\n",
    "     filenames_test.append(f\"../AGROBULA-NER/{version}/test/{f}\")\n",
    "        \n",
    "filenames_dev = []\n",
    "for f in dev_files:\n",
    "     filenames_dev.append(f\"../AGROBULA-NER/{version}/dev/{f}\")"
   ]
  },
  {
   "cell_type": "code",
   "execution_count": 31,
   "id": "2d7976c6-fe76-4a5c-8bfe-db4b528bd647",
   "metadata": {},
   "outputs": [],
   "source": [
    "with open(f'../AGROBULA-NER/{version}/dev/dev.conll', 'w', encoding='utf-8') as outfile:\n",
    "    for fname in tqdm(filenames_dev):\n",
    "        with open(fname, encoding='utf-8') as infile:\n",
    "            for line in infile:\n",
    "                outfile.write(line)"
   ]
  },
  {
   "cell_type": "code",
   "execution_count": 32,
   "id": "d76b033c-1fcf-4994-80d9-207f1c112832",
   "metadata": {},
   "outputs": [],
   "source": [
    "with open(f'../AGROBULA-NER/{version}/test/test.conll', 'w', encoding='utf-8') as outfile:\n",
    "    for fname in tqdm(filenames_test):\n",
    "        with open(fname, encoding='utf-8') as infile:\n",
    "            for line in infile:\n",
    "                outfile.write(line)"
   ]
  },
  {
   "cell_type": "code",
   "execution_count": 33,
   "id": "b3767c0f-7508-4648-b98f-7a8fcd6b9397",
   "metadata": {},
   "outputs": [
    {
     "name": "stderr",
     "output_type": "stream",
     "text": [
      "100%|████████████████████████████████████████████████████████████████████████████████| 105/105 [00:00<00:00, 321.37it/s]\n"
     ]
    }
   ],
   "source": [
    "with open(f'../AGROBULA-NER/{version}/train/train.conll', 'w', encoding='utf-8') as outfile:\n",
    "    for fname in tqdm(filenames_train):\n",
    "        with open(fname, encoding='utf-8') as infile:\n",
    "            for line in infile:\n",
    "                outfile.write(line)"
   ]
  },
  {
   "cell_type": "code",
   "execution_count": 34,
   "id": "38efb3c2-e7ea-4159-a4f0-844270b1648b",
   "metadata": {},
   "outputs": [],
   "source": [
    "with open(f'../AGROBULA-NER/{version}/train/train.txt', 'w', encoding='utf-8') as outfile:\n",
    "    for fname in filenames_train:\n",
    "        with open(fname, encoding='utf-8') as infile:\n",
    "            for line in infile:\n",
    "                outfile.write(line)\n",
    "                \n",
    "with open(f'../AGROBULA-NER/{version}/test/test.txt', 'w', encoding='utf-8') as outfile:\n",
    "    for fname in filenames_train:\n",
    "        with open(fname, encoding='utf-8') as infile:\n",
    "            for line in infile:\n",
    "                outfile.write(line)\n",
    "                \n",
    "with open(f'../AGROBULA-NER/{version}/dev/dev.txt', 'w', encoding='utf-8') as outfile:\n",
    "    for fname in filenames_train:\n",
    "        with open(fname, encoding='utf-8') as infile:\n",
    "            for line in infile:\n",
    "                outfile.write(line)"
   ]
  }
 ],
 "metadata": {
  "kernelspec": {
   "display_name": "Python 3 (ipykernel)",
   "language": "python",
   "name": "python3"
  },
  "language_info": {
   "codemirror_mode": {
    "name": "ipython",
    "version": 3
   },
   "file_extension": ".py",
   "mimetype": "text/x-python",
   "name": "python",
   "nbconvert_exporter": "python",
   "pygments_lexer": "ipython3",
   "version": "3.7.3"
  }
 },
 "nbformat": 4,
 "nbformat_minor": 5
}
